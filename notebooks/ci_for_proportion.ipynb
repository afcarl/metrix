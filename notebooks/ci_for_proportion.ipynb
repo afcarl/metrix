{
 "cells": [
  {
   "cell_type": "markdown",
   "metadata": {},
   "source": [
    "# Confidence intervals for proportion estimator\n",
    "\n",
    "We are interested in estimating the proportion of the population whose incomes are below the poverty line. Let $Y$ be the income, $c$ - the poverty line, so the parameter of interest is $\\theta=P\\left[Y\\leq c\\right]$. Suppose we have collected $n$ independent observations $\\left\\{ Y_{i}\\right\\}_{i=1}^{n}$.\n",
    "\n",
    "The Analogy Principle estimator is the fraction of individuals below the poverty line in sample: $\\hat{\\theta}_{n}=\\frac{1}{n}\\sum_{i=1}^{n}\\mathbf{1}\\left(Y_{i}\\leq c\\right)$.\n",
    "\n",
    "It can be shown that the confidence interval for the estimator is\n",
    "$$\n",
    "P\\left[\\frac{\\hat{\\theta}_{n}}{n}-\\frac{1.96}{\\sqrt{n}}\\sqrt{\\hat{\\theta}_{n}\\left(n-\\hat{\\theta}_{n}\\right)}<\\theta<\\frac{\\hat{\\theta}_{n}}{n}+\\frac{1.96}{\\sqrt{n}}\\sqrt{\\hat{\\theta}_{n}\\left(n-\\hat{\\theta}_{n}\\right)}\\right]\\approx0.95.\n",
    "$$\n",
    "Alternatively, using variance stabilization method, we can derive another confidence interval,\n",
    "$$\n",
    "P\\left[f\\left(\\sin^{-1}\\left(\\sqrt{\\hat{\\theta}_{n}}\\right)-\\frac{0.98}{\\sqrt{n}}\\right)<\\theta<f\\left(\\sin^{-1}\\left(\\sqrt{\\hat{\\theta}_{n}}\\right)+\\frac{0.98}{\\sqrt{n}}\\right)\\right]\\approx0.95.\n",
    "$$\n",
    "with\n",
    "$$\n",
    "f\\left(x\\right)=\\begin{cases}\n",
    "0, & x\\leq0,\\\\\n",
    "\\sin^{2}\\left(x\\right), & 0<x\\leq\\pi/2,\\\\\n",
    "1, & x>\\pi/2.\n",
    "\\end{cases}\n",
    "$$\n",
    "\n",
    "Evaluate the two confidence intervals above numerically for all combinations of $n\\in\\left\\{ 10,100,1000\\right\\}$   and $\\theta\\in\\left\\{ .1,.3,.5\\right\\}$ as follows. For 1000 realizations of $n\\hat{\\theta}_{n}\\sim\\text{Bin}\\left(n,\\theta\\right)$, construct both 95% confidence intervals and keep track of how many times (out of 1000) that the confidence intervals does not contain $\\theta$. Report the observed proportion of rejections for each $\\left(n,\\theta\\right)$ combination. Does your study reveal any differences in the performance of these two competing methods?"
   ]
  },
  {
   "cell_type": "markdown",
   "metadata": {},
   "source": [
    "### Set up the environment"
   ]
  },
  {
   "cell_type": "code",
   "execution_count": 1,
   "metadata": {
    "collapsed": false
   },
   "outputs": [],
   "source": [
    "import numpy as np\n",
    "import itertools\n",
    "import pandas as pd\n",
    "# In Python 2.7 the division of integers is not float. Do this to have 1 / 2 = .5\n",
    "from __future__ import division"
   ]
  },
  {
   "cell_type": "markdown",
   "metadata": {},
   "source": [
    "### Define parameters of the simulation"
   ]
  },
  {
   "cell_type": "code",
   "execution_count": 2,
   "metadata": {
    "collapsed": false
   },
   "outputs": [],
   "source": [
    "# Number of simulations\n",
    "S = 1000\n",
    "# Number of observations in each sample\n",
    "N = [10, 100, 1000]\n",
    "# True parameter values\n",
    "theta = [.1, .3, .5]"
   ]
  },
  {
   "cell_type": "markdown",
   "metadata": {},
   "source": [
    "### Define the function that returns rejection probabilities"
   ]
  },
  {
   "cell_type": "code",
   "execution_count": 3,
   "metadata": {
    "collapsed": false
   },
   "outputs": [],
   "source": [
    "def rejections(n, p, s):\n",
    "    \"\"\"Compute rejection probabilties.\n",
    "    \n",
    "    Parameters\n",
    "    ----------\n",
    "    n : int\n",
    "        Number of draws\n",
    "    p : float\n",
    "        Success probability\n",
    "    s : int\n",
    "        Number of simulations\n",
    "    \n",
    "    Returns\n",
    "    -------\n",
    "    r1, r2 : float\n",
    "        Rejection probabilities for two CI\n",
    "        \n",
    "    \"\"\"\n",
    "    # Generate the data\n",
    "    X = np.random.binomial(n, p, s)\n",
    "    # Compute the estimator of success probability\n",
    "    theta_hat = X / n\n",
    "    # Compute two statistics in CI\n",
    "    W1 = np.abs(n**.5 * (theta_hat - p) / (theta_hat * (1 - theta_hat))**.5)\n",
    "    W2 = np.abs(2 * n**.5 * (np.arcsin(theta_hat**.5) - np.arcsin(p**.5)))\n",
    "    # Compute the fraction of rejections\n",
    "    r1 = np.mean(W1 > 1.96)\n",
    "    r2 = np.mean(W2 > 1.96)\n",
    "    return r1, r2"
   ]
  },
  {
   "cell_type": "markdown",
   "metadata": {},
   "source": [
    "### Run simulation study"
   ]
  },
  {
   "cell_type": "code",
   "execution_count": 4,
   "metadata": {
    "collapsed": false
   },
   "outputs": [
    {
     "name": "stdout",
     "output_type": "stream",
     "text": [
      "         r1                   r2              \n",
      "p       0.1    0.3    0.5    0.1    0.3    0.5\n",
      "n                                             \n",
      "10    0.338  0.142  0.116  0.351  0.046  0.116\n",
      "100   0.077  0.049  0.056  0.048  0.049  0.056\n",
      "1000  0.045  0.051  0.061  0.050  0.051  0.061\n"
     ]
    }
   ],
   "source": [
    "# Initialyze containers for the labels and data\n",
    "index, df = [], []\n",
    "\n",
    "# To avoid multiple loops, use cartesian product of all options to check\n",
    "for (n, p) in itertools.product(N, theta):\n",
    "    r = rejections(n, p, S)\n",
    "    # Append results to labels and data\n",
    "    df.append(r)\n",
    "    index.append([n, p])\n",
    "\n",
    "# Construct multi-level index\n",
    "index = pd.MultiIndex.from_tuples(index, names=['n', 'p'])\n",
    "# Construct pandas DataFrame for nice output\n",
    "table = pd.DataFrame(df, columns=['r1', 'r2'], index=index)\n",
    "\n",
    "print(table.unstack('p'))"
   ]
  }
 ],
 "metadata": {
  "kernelspec": {
   "display_name": "Python 3",
   "language": "python",
   "name": "python3"
  },
  "language_info": {
   "codemirror_mode": {
    "name": "ipython",
    "version": 3
   },
   "file_extension": ".py",
   "mimetype": "text/x-python",
   "name": "python",
   "nbconvert_exporter": "python",
   "pygments_lexer": "ipython3",
   "version": "3.4.4"
  }
 },
 "nbformat": 4,
 "nbformat_minor": 0
}
