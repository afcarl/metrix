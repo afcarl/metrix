{
 "cells": [
  {
   "cell_type": "markdown",
   "metadata": {},
   "source": [
    "# Different ways to compute OLS"
   ]
  },
  {
   "cell_type": "markdown",
   "metadata": {},
   "source": [
    "Import all necessary modules"
   ]
  },
  {
   "cell_type": "code",
   "execution_count": 1,
   "metadata": {
    "collapsed": false
   },
   "outputs": [],
   "source": [
    "import numpy as np\n",
    "import matplotlib.pylab as plt\n",
    "import seaborn as sns\n",
    "\n",
    "from numpy.linalg import inv, lstsq\n",
    "\n",
    "sns.set_context('notebook')"
   ]
  },
  {
   "cell_type": "markdown",
   "metadata": {},
   "source": [
    "If you want to embed plots inside IPython notebook, you need to turn on this option."
   ]
  },
  {
   "cell_type": "code",
   "execution_count": 2,
   "metadata": {
    "collapsed": false
   },
   "outputs": [],
   "source": [
    "%matplotlib inline"
   ]
  },
  {
   "cell_type": "markdown",
   "metadata": {},
   "source": [
    "### Generate the data"
   ]
  },
  {
   "cell_type": "markdown",
   "metadata": {},
   "source": [
    "Define the number of observations in the sample, $N$, and the number of simulations, $S$."
   ]
  },
  {
   "cell_type": "code",
   "execution_count": 3,
   "metadata": {
    "collapsed": false
   },
   "outputs": [],
   "source": [
    "N, S = 100, 1000"
   ]
  },
  {
   "cell_type": "markdown",
   "metadata": {},
   "source": [
    "Parameters of the joint distribution of $X$ and $e$."
   ]
  },
  {
   "cell_type": "code",
   "execution_count": 4,
   "metadata": {
    "collapsed": false
   },
   "outputs": [],
   "source": [
    "mean = [0,0]\n",
    "rho = .1\n",
    "cov = [[1, rho], [rho, 1]]"
   ]
  },
  {
   "cell_type": "markdown",
   "metadata": {},
   "source": [
    "Regression level and slope."
   ]
  },
  {
   "cell_type": "code",
   "execution_count": 5,
   "metadata": {
    "collapsed": false
   },
   "outputs": [],
   "source": [
    "alpha, beta = 2, 3"
   ]
  },
  {
   "cell_type": "markdown",
   "metadata": {},
   "source": [
    "Simulate $X$ and $e$ from multivariate normal distribution."
   ]
  },
  {
   "cell_type": "code",
   "execution_count": 6,
   "metadata": {
    "collapsed": false
   },
   "outputs": [],
   "source": [
    "def simulate_data(mean, cov, alpha, beta, size):\n",
    "    X, e = np.random.multivariate_normal(mean, cov, size).T\n",
    "    Y = alpha + beta * X + e\n",
    "    return Y, X\n",
    "\n",
    "Y, X = simulate_data(mean, cov, alpha, beta, (N, S))"
   ]
  },
  {
   "cell_type": "markdown",
   "metadata": {},
   "source": [
    "### OLS Estimator\n",
    "\n",
    "Define two functions which should return the same slope parameter. The difference is in the implementation. The first one is a bit more natural since it uses NumPy matrices. This allows to use `*` symbol to multiply matrices. the second uses NumPy arrays instead. This implementation requires the use of `dot` function."
   ]
  },
  {
   "cell_type": "code",
   "execution_count": 7,
   "metadata": {
    "collapsed": false
   },
   "outputs": [],
   "source": [
    "def ols_matrix(Y,X):\n",
    "    Y = np.matrix(Y).T\n",
    "    X = np.matrix(np.vstack((np.ones_like(X), X))).T\n",
    "    beta = np.array(inv(X.T * X) * (X.T * Y))\n",
    "    return float(beta[1])\n",
    "\n",
    "def ols_array(Y,X):\n",
    "    X = np.vstack((np.ones_like(X), X)).T\n",
    "    Qxx = np.dot(X.T, X)\n",
    "    Qxy = np.dot(X.T, Y)\n",
    "    beta = np.dot(inv(Qxx), Qxy)\n",
    "    return float(beta[1])\n",
    "\n",
    "def ols_lstsq(Y,X):\n",
    "    X = np.vstack((np.ones_like(X), X)).T\n",
    "    beta = lstsq(X,Y)[0]\n",
    "    return float(beta[1])"
   ]
  },
  {
   "cell_type": "markdown",
   "metadata": {},
   "source": [
    "### Compute the estimates"
   ]
  },
  {
   "cell_type": "markdown",
   "metadata": {},
   "source": [
    "Now we need to initialize two containers for our estimates in each simulated sample."
   ]
  },
  {
   "cell_type": "code",
   "execution_count": 8,
   "metadata": {
    "collapsed": false
   },
   "outputs": [],
   "source": [
    "beta_hat1, beta_hat2, beta_hat3 = [], [], []"
   ]
  },
  {
   "cell_type": "markdown",
   "metadata": {},
   "source": [
    "For each simulated sample we compute the estimate and append it to the list. IPython \"magic\" `%%timeit` will show how much time was spent in the current block."
   ]
  },
  {
   "cell_type": "code",
   "execution_count": 9,
   "metadata": {
    "collapsed": false
   },
   "outputs": [
    {
     "name": "stdout",
     "output_type": "stream",
     "text": [
      "CPU times: user 484 ms, sys: 16 ms, total: 500 ms\n",
      "Wall time: 254 ms\n"
     ]
    }
   ],
   "source": [
    "%%time\n",
    "for y, x in zip(Y, X):\n",
    "    beta_hat1.append(ols_matrix(y, x))"
   ]
  },
  {
   "cell_type": "markdown",
   "metadata": {},
   "source": [
    "Same for the second implimentation through arrays instead of matrices."
   ]
  },
  {
   "cell_type": "code",
   "execution_count": 10,
   "metadata": {
    "collapsed": false
   },
   "outputs": [
    {
     "name": "stdout",
     "output_type": "stream",
     "text": [
      "CPU times: user 160 ms, sys: 4 ms, total: 164 ms\n",
      "Wall time: 107 ms\n"
     ]
    }
   ],
   "source": [
    "%%time\n",
    "for y, x in zip(Y, X):\n",
    "    beta_hat2.append(ols_array(y, x))"
   ]
  },
  {
   "cell_type": "code",
   "execution_count": 11,
   "metadata": {
    "collapsed": false
   },
   "outputs": [
    {
     "name": "stdout",
     "output_type": "stream",
     "text": [
      "CPU times: user 436 ms, sys: 8 ms, total: 444 ms\n",
      "Wall time: 233 ms\n"
     ]
    }
   ],
   "source": [
    "%%time\n",
    "for y, x in zip(Y, X):\n",
    "    beta_hat3.append(ols_lstsq(y, x))"
   ]
  },
  {
   "cell_type": "markdown",
   "metadata": {},
   "source": [
    "### Analyze the results"
   ]
  },
  {
   "cell_type": "markdown",
   "metadata": {},
   "source": [
    "Are the results equal?"
   ]
  },
  {
   "cell_type": "code",
   "execution_count": 12,
   "metadata": {
    "collapsed": false
   },
   "outputs": [
    {
     "name": "stdout",
     "output_type": "stream",
     "text": [
      "True\n",
      "False\n",
      "True\n"
     ]
    }
   ],
   "source": [
    "print(np.array_equal(beta_hat1, beta_hat2))\n",
    "print(np.array_equal(beta_hat1, beta_hat3))\n",
    "print(np.allclose(beta_hat1, beta_hat3, atol=1e-20))"
   ]
  },
  {
   "cell_type": "markdown",
   "metadata": {},
   "source": [
    "Plot the histogram."
   ]
  },
  {
   "cell_type": "code",
   "execution_count": 13,
   "metadata": {
    "collapsed": false
   },
   "outputs": [
    {
     "data": {
      "image/png": "[encoded data removed]",
      "text/plain": [
       "<matplotlib.figure.Figure at 0x7fd7c839bd30>"
      ]
     },
     "metadata": {},
     "output_type": "display_data"
    }
   ],
   "source": [
    "plt.figure(figsize = (12, 6))\n",
    "plt.hist(beta_hat1, 50, histtype='stepfilled', normed=True, lw=0, alpha=.5, label='Density')\n",
    "plt.axvline(beta, color='red', lw=5, label='True')\n",
    "plt.axvline(np.mean(beta_hat1), color='black', lw=5, label='Mean Estimate')\n",
    "plt.xlabel(r'$\\hat{\\beta}$')\n",
    "plt.ylabel('%')\n",
    "plt.legend()\n",
    "plt.show()"
   ]
  },
  {
   "cell_type": "markdown",
   "metadata": {},
   "source": [
    "## Monte Carlo experiment\n",
    "\n",
    "Run estimation for all sample sizes and all simulated data."
   ]
  },
  {
   "cell_type": "code",
   "execution_count": 14,
   "metadata": {
    "collapsed": false
   },
   "outputs": [],
   "source": [
    "nobs = [250, 500, 1000, 2000]\n",
    "\n",
    "beta_hat = []\n",
    "for N in nobs:\n",
    "    Y, X = simulate_data(mean, cov, alpha, beta, (N, S))\n",
    "    temp = []\n",
    "    for y, x in zip(Y, X):\n",
    "        temp.append(ols_array(y, x))\n",
    "    beta_hat.append(temp)\n",
    "    \n",
    "beta_hat = np.array(beta_hat)"
   ]
  },
  {
   "cell_type": "markdown",
   "metadata": {},
   "source": [
    "Plot densities of the estimates."
   ]
  },
  {
   "cell_type": "code",
   "execution_count": 15,
   "metadata": {
    "collapsed": false
   },
   "outputs": [
    {
     "data": {
      "image/png": "[encoded data removed]",
      "text/plain": [
       "<matplotlib.figure.Figure at 0x7fd7c82d9518>"
      ]
     },
     "metadata": {},
     "output_type": "display_data"
    }
   ],
   "source": [
    "plt.figure(figsize=(8, 5))\n",
    "for i in range(len(nobs)):\n",
    "    sns.kdeplot(beta_hat[i], alpha=.4, lw=3, shade=True, label=nobs[i])\n",
    "plt.axvline(beta, color='red', lw=3, label='True')\n",
    "plt.xlabel(r'$\\hat{\\beta}$')\n",
    "plt.ylabel('%')\n",
    "plt.legend(title='N')\n",
    "plt.show()"
   ]
  }
 ],
 "metadata": {
  "kernelspec": {
   "display_name": "Python 3",
   "language": "python",
   "name": "python3"
  },
  "language_info": {
   "codemirror_mode": {
    "name": "ipython",
    "version": 3
   },
   "file_extension": ".py",
   "mimetype": "text/x-python",
   "name": "python",
   "nbconvert_exporter": "python",
   "pygments_lexer": "ipython3",
   "version": "3.4.4"
  }
 },
 "nbformat": 4,
 "nbformat_minor": 0
}
