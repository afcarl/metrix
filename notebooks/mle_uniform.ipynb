{
 "cells": [
  {
   "cell_type": "markdown",
   "metadata": {},
   "source": [
    "# MLE with exponential distribution"
   ]
  },
  {
   "cell_type": "code",
   "execution_count": 1,
   "metadata": {
    "collapsed": true
   },
   "outputs": [],
   "source": [
    "import numpy as np\n",
    "import matplotlib.pylab as plt\n",
    "import seaborn as sns\n",
    "\n",
    "np.set_printoptions(precision=4, suppress=True)\n",
    "sns.set_context('notebook')\n",
    "\n",
    "%matplotlib inline"
   ]
  },
  {
   "cell_type": "markdown",
   "metadata": {},
   "source": [
    "## Draw uniform density"
   ]
  },
  {
   "cell_type": "markdown",
   "metadata": {},
   "source": [
    "$\n",
    "f\\left(y,\\theta\\right)=\n",
    "\\begin{cases}\n",
    "0, & y\\lt a,\\\\\n",
    "\\frac{1}{b-a}, & a\\leq y\\leq b,\\\\\n",
    "0, & y\\gt b.\n",
    "\\end{cases}\n",
    "$"
   ]
  },
  {
   "cell_type": "code",
   "execution_count": 2,
   "metadata": {
    "collapsed": false
   },
   "outputs": [
    {
     "data": {
      "image/png": "[encoded data removed]",
      "text/plain": [
       "<matplotlib.figure.Figure at 0x7fe668a0ae80>"
      ]
     },
     "metadata": {},
     "output_type": "display_data"
    }
   ],
   "source": [
    "theta = [[1., 2], [.5, 2.5], [.25, 2.75]]\n",
    "\n",
    "def f(x, a, b):\n",
    "    if x < a or x > b:\n",
    "        return 0\n",
    "    else:\n",
    "        return 1/(b-a)\n",
    "\n",
    "y = np.linspace(0, 3, 1e3)\n",
    "for t in theta:\n",
    "    a, b = t[0], t[1]\n",
    "    ff = [f(x, a, b) for x in y]\n",
    "    plt.plot(y, ff, lw = 4)\n",
    "\n",
    "plt.show()"
   ]
  },
  {
   "cell_type": "markdown",
   "metadata": {},
   "source": [
    "## Simulate data and draw histogram"
   ]
  },
  {
   "cell_type": "code",
   "execution_count": 3,
   "metadata": {
    "collapsed": false
   },
   "outputs": [
    {
     "data": {
      "image/png": "[encoded data removed]",
      "text/plain": [
       "<matplotlib.figure.Figure at 0x7fe668781940>"
      ]
     },
     "metadata": {},
     "output_type": "display_data"
    }
   ],
   "source": [
    "n = 100\n",
    "a, b = 1., 2.\n",
    "# simulate data\n",
    "y = np.random.uniform(a, b, n)\n",
    "\n",
    "# plot data\n",
    "plt.hist(y, bins=10, normed=True, lw=0)\n",
    "plt.xlabel('$y_i$')\n",
    "plt.ylabel('$\\hat{f}$')\n",
    "plt.show()"
   ]
  },
  {
   "cell_type": "markdown",
   "metadata": {},
   "source": [
    "## Simulate data and estimate model parameter by MLE"
   ]
  },
  {
   "cell_type": "markdown",
   "metadata": {},
   "source": [
    "MLE estimator is\n",
    "\n",
    "$$\\hat{a}=\\min\\left(y_{i}\\right),\\quad\\hat{b}=\\max\\left(y_{i}\\right)$$"
   ]
  },
  {
   "cell_type": "code",
   "execution_count": 4,
   "metadata": {
    "collapsed": false
   },
   "outputs": [
    {
     "name": "stderr",
     "output_type": "stream",
     "text": [
      "/home/khrapov/anaconda3/lib/python3.4/site-packages/ipykernel/__main__.py:6: VisibleDeprecationWarning: using a non-integer number instead of an integer will result in an error in the future\n"
     ]
    },
    {
     "name": "stdout",
     "output_type": "stream",
     "text": [
      "Estimates are: a =  1.01133898829  b =  1.99754943931\n"
     ]
    },
    {
     "data": {
      "image/png": "[encoded data removed]",
      "text/plain": [
       "<matplotlib.figure.Figure at 0x7fe69cf34d68>"
      ]
     },
     "metadata": {},
     "output_type": "display_data"
    }
   ],
   "source": [
    "# sample size\n",
    "n = 1e2\n",
    "# true parameter value\n",
    "a, b = 1., 2.\n",
    "# simulate data\n",
    "y = np.sort(np.random.uniform(a, b, n))\n",
    "# MLE estimator\n",
    "a_hat, b_hat = np.min(y), np.max(y)\n",
    "print('Estimates are: a = ', a_hat, ' b = ', b_hat)\n",
    "# function of exponential density\n",
    "ff = lambda y, a, b: [f(x, a, b) for x in y]\n",
    "\n",
    "# plot results\n",
    "plt.hist(y, bins=10, normed=True, alpha=.2, lw=0)\n",
    "plt.plot(y, ff(y, a, b), c='black', lw=4)\n",
    "plt.plot(y, ff(y, a_hat, b_hat), c='red', lw=4)\n",
    "plt.xlabel(r'$y_i$')\n",
    "plt.ylabel(r'$\\hat{f}$')\n",
    "plt.legend(('True', 'Fitted','Histogram'))\n",
    "plt.show()"
   ]
  }
 ],
 "metadata": {
  "kernelspec": {
   "display_name": "Python 3",
   "language": "python",
   "name": "python3"
  },
  "language_info": {
   "codemirror_mode": {
    "name": "ipython",
    "version": 3
   },
   "file_extension": ".py",
   "mimetype": "text/x-python",
   "name": "python",
   "nbconvert_exporter": "python",
   "pygments_lexer": "ipython3",
   "version": "3.4.5"
  }
 },
 "nbformat": 4,
 "nbformat_minor": 0
}
