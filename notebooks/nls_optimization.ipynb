{
 "cells": [
  {
   "cell_type": "markdown",
   "metadata": {},
   "source": [
    "# Non-linear Least Squares and SciPy optimization\n",
    "### Set up environment"
   ]
  },
  {
   "cell_type": "code",
   "execution_count": 1,
   "metadata": {
    "collapsed": false
   },
   "outputs": [],
   "source": [
    "import warnings\n",
    "\n",
    "import numpy as np\n",
    "import pandas as pd\n",
    "import matplotlib.pylab as plt\n",
    "import seaborn as sns\n",
    "\n",
    "from scipy.optimize import minimize, check_grad\n",
    "from pandas.tools.plotting import scatter_matrix\n",
    "\n",
    "np.set_printoptions(precision = 3, suppress = True)\n",
    "sns.set_context('notebook')\n",
    "%matplotlib inline"
   ]
  },
  {
   "cell_type": "markdown",
   "metadata": {},
   "source": [
    "### Import data"
   ]
  },
  {
   "cell_type": "code",
   "execution_count": 2,
   "metadata": {
    "collapsed": false
   },
   "outputs": [
    {
     "name": "stdout",
     "output_type": "stream",
     "text": [
      "    Attendance   Exam\n",
      "54         1.0  27.50\n",
      "47         1.0  33.75\n",
      "50         2.0  30.00\n",
      "48         2.0  31.25\n",
      "59         3.0  23.75\n"
     ]
    }
   ],
   "source": [
    "df = pd.read_csv('../data/attendance.csv').dropna()\n",
    "df.sort_values(by='Attendance', inplace=True)\n",
    "\n",
    "Y = df['Exam'].values\n",
    "X = df['Attendance'].values\n",
    "# Adjust by one to allow for log(X)\n",
    "X += 1\n",
    "\n",
    "print(df.head())"
   ]
  },
  {
   "cell_type": "markdown",
   "metadata": {},
   "source": [
    "### Plot some graphs"
   ]
  },
  {
   "cell_type": "code",
   "execution_count": 3,
   "metadata": {
    "collapsed": false
   },
   "outputs": [
    {
     "data": {
      "image/png": "[encoded data removed]",
      "text/plain": [
       "<matplotlib.figure.Figure at 0x7ffa54dda198>"
      ]
     },
     "metadata": {},
     "output_type": "display_data"
    }
   ],
   "source": [
    "scatter_matrix(df, alpha=0.2, figsize=(6, 6), diagonal='kde')\n",
    "plt.show()"
   ]
  },
  {
   "cell_type": "markdown",
   "metadata": {},
   "source": [
    "## Polynomial model class"
   ]
  },
  {
   "cell_type": "code",
   "execution_count": 4,
   "metadata": {
    "collapsed": false
   },
   "outputs": [],
   "source": [
    "class Model_Poly(object):\n",
    "    \n",
    "    def __init__(self, Y, X, nterms):\n",
    "        self.nterms = nterms\n",
    "        self.Y, self.X = Y, X\n",
    "        self.N = Y.shape[0]\n",
    "    \n",
    "    def xall(self, theta):\n",
    "        return np.atleast_2d(self.X).T ** list(range(len(theta)))\n",
    "\n",
    "    def yhat(self, theta):\n",
    "        return self.xall(theta).dot(theta)\n",
    "\n",
    "    def sse(self, theta):\n",
    "        return ((self.Y - self.yhat(theta))**2).mean()\n",
    "\n",
    "    def jac(self, theta):\n",
    "        return -2 * (self.Y - self.yhat(theta)).dot(self.xall(theta)) / self.N\n",
    "\n",
    "    def hess(self, theta):\n",
    "        return 2 * self.xall(theta).T.dot(self.xall(theta)) / self.N"
   ]
  },
  {
   "cell_type": "markdown",
   "metadata": {},
   "source": [
    "## Power model class"
   ]
  },
  {
   "cell_type": "code",
   "execution_count": 5,
   "metadata": {
    "collapsed": false
   },
   "outputs": [],
   "source": [
    "class Model_Power(object):\n",
    "    \n",
    "    def __init__(self, Y, X):\n",
    "        self.Y, self.X = Y, X\n",
    "        self.N = Y.shape[0]\n",
    "    \n",
    "    def yhat(self, theta):\n",
    "        return theta[0] + theta[1] * X**theta[2]\n",
    "    \n",
    "    def dyhat(self, theta):\n",
    "        return np.vstack([np.ones(self.N),\n",
    "                          self.X**theta[2],\n",
    "                          theta[1] * self.X**theta[2] * np.log(self.X)])\n",
    "    \n",
    "    def sse(self, theta):\n",
    "        return ((self.Y - self.yhat(theta))**2).mean()\n",
    "\n",
    "    def jac(self, theta):\n",
    "        return -2 * (self.Y - self.yhat(theta)).dot(self.dyhat(theta).T) / self.N"
   ]
  },
  {
   "cell_type": "markdown",
   "metadata": {},
   "source": [
    "## Estimation class"
   ]
  },
  {
   "cell_type": "code",
   "execution_count": 6,
   "metadata": {
    "collapsed": false
   },
   "outputs": [],
   "source": [
    "methods = ['Nelder-Mead', 'Powell', 'CG', 'BFGS',\n",
    "           'Newton-CG', 'L-BFGS-B', 'TNC', 'COBYLA',\n",
    "           'SLSQP', 'dogleg', 'trust-ncg']\n",
    "\n",
    "class NLS(object):\n",
    "    \n",
    "    def __init__(self, model):\n",
    "        \n",
    "        self.model = model\n",
    "        if hasattr(self.model, 'jac'):\n",
    "            self.jac = self.model.jac\n",
    "        else:\n",
    "            self.jac = None\n",
    "        if hasattr(self.model, 'hess'):\n",
    "            self.hess = self.model.hess\n",
    "        else:\n",
    "            self.hess = None\n",
    "        \n",
    "    def estimate(self, theta_start, method):\n",
    "        \n",
    "        try:\n",
    "            with warnings.catch_warnings():\n",
    "                warnings.simplefilter(\"ignore\")\n",
    "                self.res = minimize(self.model.sse, theta_start, method = method,\n",
    "                                    jac = self.jac, hess = self.hess)\n",
    "                self.theta_hat = self.res.x\n",
    "        except ValueError:\n",
    "            print('Hessian is required!')"
   ]
  },
  {
   "cell_type": "markdown",
   "metadata": {},
   "source": [
    "## Estimate parameters and plot predictions for polynomial model"
   ]
  },
  {
   "cell_type": "code",
   "execution_count": 7,
   "metadata": {
    "collapsed": false
   },
   "outputs": [
    {
     "name": "stdout",
     "output_type": "stream",
     "text": [
      "The difference between analytic and numerical gradient = 0.000278622756197\n",
      "Nelder-Mead True [ 34.537   3.497  -0.139]\n",
      "Powell True [ 34.537   3.497  -0.139]\n",
      "CG False [ 0.995  0.925 -0.007]\n",
      "BFGS True [ 34.537   3.497  -0.139]\n",
      "Newton-CG True [ 34.537   3.497  -0.139]\n",
      "L-BFGS-B True [ 34.537   3.497  -0.139]\n",
      "TNC True [ 34.537   3.497  -0.139]\n",
      "COBYLA False [ 1.176  2.699  0.14 ]\n",
      "SLSQP True [ 34.537   3.497  -0.139]\n",
      "dogleg True [ 34.537   3.497  -0.139]\n",
      "trust-ncg True [ 34.537   3.497  -0.139]\n"
     ]
    },
    {
     "data": {
      "image/png": "[encoded data removed]",
      "text/plain": [
       "<matplotlib.figure.Figure at 0x7ffa1dc11160>"
      ]
     },
     "metadata": {},
     "output_type": "display_data"
    }
   ],
   "source": [
    "nterms = 3\n",
    "model = Model_Poly(Y, X, nterms)\n",
    "\n",
    "plt.figure(figsize = (10, 5))\n",
    "theta_start = np.ones(nterms)\n",
    "print('The difference between analytic and numerical gradient =',\n",
    "      check_grad(model.sse, model.jac, theta_start))\n",
    "\n",
    "estim = NLS(model)\n",
    "\n",
    "for method in methods:\n",
    "    estim.estimate(theta_start, method)\n",
    "    print(method, estim.res.success, estim.theta_hat)\n",
    "    if estim.res.success:\n",
    "        Yhat = model.yhat(estim.theta_hat)\n",
    "        plt.plot(X, Yhat, label = method)\n",
    "\n",
    "plt.scatter(X, Y)\n",
    "plt.legend()\n",
    "plt.show()"
   ]
  },
  {
   "cell_type": "markdown",
   "metadata": {},
   "source": [
    "## Estimate parameters and plot predictions for power model"
   ]
  },
  {
   "cell_type": "code",
   "execution_count": 8,
   "metadata": {
    "collapsed": false
   },
   "outputs": [
    {
     "name": "stdout",
     "output_type": "stream",
     "text": [
      "The difference between analytic and numerical gradient = 1.18105212638e-05\n",
      "Nelder-Mead False [-371.384  406.555    0.02 ]\n",
      "Powell True [ 34.374   5.997   0.517]\n",
      "CG False [ 30.777   9.126   0.409]\n",
      "BFGS False [-47908.844  47943.896      0.   ]\n",
      "Newton-CG True [ 15.793  22.316   0.238]\n",
      "L-BFGS-B True [-2802.068  2837.176     0.003]\n",
      "TNC False [  8.517  29.445   0.193]\n",
      "COBYLA False [ 35.872   5.972   0.486]\n",
      "SLSQP False [-448.649  483.968    0.017]\n",
      "Hessian is required!\n",
      "dogleg False [-448.649  483.968    0.017]\n",
      "Hessian is required!\n",
      "trust-ncg False [-448.649  483.968    0.017]\n"
     ]
    },
    {
     "data": {
      "image/png": "[encoded data removed]",
      "text/plain": [
       "<matplotlib.figure.Figure at 0x7ffa1dbb0550>"
      ]
     },
     "metadata": {},
     "output_type": "display_data"
    }
   ],
   "source": [
    "nterms = 3\n",
    "model = Model_Power(Y, X)\n",
    "\n",
    "plt.figure(figsize = (10, 5))\n",
    "theta_start = [35, 5, .5]\n",
    "print('The difference between analytic and numerical gradient =',\n",
    "      check_grad(model.sse, model.jac, theta_start))\n",
    "\n",
    "estim = NLS(model)\n",
    "\n",
    "for method in methods:\n",
    "    estim.estimate(theta_start, method)\n",
    "    print(method, estim.res.success, estim.theta_hat)\n",
    "    if estim.res.success:\n",
    "        Yhat = model.yhat(estim.theta_hat)\n",
    "        plt.plot(X, Yhat, label = method)\n",
    "\n",
    "    \n",
    "plt.scatter(X, Y)\n",
    "plt.legend()\n",
    "plt.show()"
   ]
  },
  {
   "cell_type": "markdown",
   "metadata": {},
   "source": [
    "## Bootstrap"
   ]
  },
  {
   "cell_type": "code",
   "execution_count": 9,
   "metadata": {
    "collapsed": false
   },
   "outputs": [
    {
     "name": "stdout",
     "output_type": "stream",
     "text": [
      "NLS estimator =  [ 34.537   3.497  -0.139]\n",
      "Lower bound   =  [ 20.289  -1.474  -0.423]\n",
      "Upper bound   =  [ 54.239   7.879   0.161]\n",
      "CPU times: user 3.9 s, sys: 36 ms, total: 3.93 s\n",
      "Wall time: 3.93 s\n"
     ]
    },
    {
     "name": "stderr",
     "output_type": "stream",
     "text": [
      "/home/khrapov/anaconda3/lib/python3.4/site-packages/ipykernel/__main__.py:36: VisibleDeprecationWarning: using a non-integer number instead of an integer will result in an error in the future\n",
      "/home/khrapov/anaconda3/lib/python3.4/site-packages/ipykernel/__main__.py:37: VisibleDeprecationWarning: using a non-integer number instead of an integer will result in an error in the future\n"
     ]
    }
   ],
   "source": [
    "%%time\n",
    "\n",
    "# Number of bootstrap samples\n",
    "B = 1000\n",
    "# Confidence level\n",
    "alpha = .05\n",
    "# Matrix of random indices\n",
    "new_index = np.random.randint(Y.shape[0], size=[B, Y.shape[0]])\n",
    "\n",
    "nterms = 3\n",
    "model = Model_Poly(Y, X, nterms)\n",
    "# Instantiate estimator\n",
    "estim = NLS(model)\n",
    "# Initial guess\n",
    "theta_start = np.ones(nterms)\n",
    "# Estimate parameters\n",
    "estim.estimate(theta_start, method)\n",
    "# Update initial guess for optimization speed\n",
    "theta_start = estim.theta_hat\n",
    "\n",
    "theta_b = []\n",
    "\n",
    "for idx in new_index:\n",
    "    # Resample the data and pass it to the model\n",
    "    model = Model_Poly(Y[idx], X[idx], nterms)\n",
    "    # Instantiate estimator\n",
    "    estim = NLS(model)\n",
    "    # Estimate\n",
    "    estim.estimate(theta_start, method)\n",
    "    # Store the results\n",
    "    theta_b.append(estim.theta_hat)\n",
    "\n",
    "# Convert the list to numpy array\n",
    "theta_b = np.sort(np.vstack(theta_b), axis=0)\n",
    "\n",
    "# Compute confidence intervals\n",
    "lo = theta_b[np.floor(alpha * B)]\n",
    "hi = theta_b[np.ceil((1-alpha) * B)]\n",
    "\n",
    "print('NLS estimator = ', theta_start)\n",
    "print('Lower bound   = ', lo)\n",
    "print('Upper bound   = ', hi)"
   ]
  }
 ],
 "metadata": {
  "kernelspec": {
   "display_name": "Python 3",
   "language": "python",
   "name": "python3"
  },
  "language_info": {
   "codemirror_mode": {
    "name": "ipython",
    "version": 3
   },
   "file_extension": ".py",
   "mimetype": "text/x-python",
   "name": "python",
   "nbconvert_exporter": "python",
   "pygments_lexer": "ipython3",
   "version": "3.4.5"
  }
 },
 "nbformat": 4,
 "nbformat_minor": 0
}
