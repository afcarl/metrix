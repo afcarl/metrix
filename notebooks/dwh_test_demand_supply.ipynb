{
 "cells": [
  {
   "cell_type": "markdown",
   "metadata": {},
   "source": [
    "# Durbin-Wu-Hausman (DWH) test with demand and supply data\n",
    "\n",
    "### Set up the environment"
   ]
  },
  {
   "cell_type": "code",
   "execution_count": 1,
   "metadata": {
    "collapsed": false
   },
   "outputs": [],
   "source": [
    "import numpy as np\n",
    "import pandas as pd\n",
    "\n",
    "from numpy.linalg import inv, solve\n",
    "\n",
    "np.set_printoptions(precision=4, suppress=True)\n",
    "pd.set_option('float_format', '{:6.4f}'.format)\n",
    "\n",
    "%matplotlib inline"
   ]
  },
  {
   "cell_type": "markdown",
   "metadata": {},
   "source": [
    "### Import the data"
   ]
  },
  {
   "cell_type": "code",
   "execution_count": 2,
   "metadata": {
    "collapsed": false
   },
   "outputs": [
    {
     "name": "stdout",
     "output_type": "stream",
     "text": [
      "       q      p     x1  x2     x3     x4  const\n",
      "0 5.0203 1.0131 5.1466   0 0.9526 1.9106      1\n",
      "1 4.5993 1.9126 5.1112   0 0.6296 1.7603      1\n",
      "2 4.7450 0.9333 5.0010   0 0.7878 1.6907      1\n",
      "3 4.5549 1.6169 5.2120   1 0.8066 1.4489      1\n",
      "4 5.1902 0.1995 5.1983   0 1.1973 1.8025      1\n"
     ]
    }
   ],
   "source": [
    "df = pd.read_csv('../data/demand-supply.csv',\n",
    "                 names=['q', 'p', 'x1', 'x2', 'x3', 'x4'], sep=';')\n",
    "df['const'] = 1\n",
    "\n",
    "print(df.head())"
   ]
  },
  {
   "cell_type": "markdown",
   "metadata": {},
   "source": [
    "## OLS estimation"
   ]
  },
  {
   "cell_type": "code",
   "execution_count": 3,
   "metadata": {
    "collapsed": false
   },
   "outputs": [],
   "source": [
    "def ols(Y, X):\n",
    "    beta = solve(X.T * X, X.T * Y)\n",
    "    Yhat = X * beta\n",
    "    ehat = Y - Yhat\n",
    "    Omega = np.diag(np.array(ehat).squeeze()**2)\n",
    "    var = inv(X.T * X) * (X.T * Omega * X) * inv(X.T * X)\n",
    "    se = np.diag(var)**.5\n",
    "    return np.array(beta).squeeze(), np.array(se).squeeze(), Yhat"
   ]
  },
  {
   "cell_type": "markdown",
   "metadata": {},
   "source": [
    "## 2SLS estimation"
   ]
  },
  {
   "cell_type": "code",
   "execution_count": 4,
   "metadata": {
    "collapsed": false
   },
   "outputs": [],
   "source": [
    "def twosls(Y, X, Z):\n",
    "    Pz = Z * inv(Z.T * Z) * Z.T\n",
    "    beta = solve(X.T * Pz * X, X.T * Pz * Y)\n",
    "    Yhat = X * beta\n",
    "    ehat = Y - Yhat\n",
    "    Omega = np.diag(np.array(ehat).squeeze()**2)\n",
    "    Qxpx = X.T * Pz * X\n",
    "    var = inv(Qxpx) * (X.T * Pz * Omega * Pz * X) * inv(Qxpx)\n",
    "    se = np.diag(var)**.5\n",
    "    return np.array(beta).squeeze(), np.array(se).squeeze()"
   ]
  },
  {
   "cell_type": "markdown",
   "metadata": {},
   "source": [
    "## Solution of the problem"
   ]
  },
  {
   "cell_type": "code",
   "execution_count": 5,
   "metadata": {
    "collapsed": false
   },
   "outputs": [],
   "source": [
    "def solution(dep='q'):\n",
    "    # The list of variable names\n",
    "    expl = ['p', 'q']\n",
    "    # Remove dependent variable from the list\n",
    "    expl.remove(dep)\n",
    "    # Extract the name from the list\n",
    "    expl = expl[0]\n",
    "    \n",
    "    # Define matrix variables\n",
    "    Y = np.matrix(df[dep]).T\n",
    "    X = np.matrix(df[['const', expl, 'x1', 'x2']])\n",
    "    Z = np.matrix(df[['const', 'x1', 'x2', 'x3', 'x4']])\n",
    "    \n",
    "    # Print results\n",
    "    print('\\nOLS:')\n",
    "    print('Beta =', ols(Y, X)[0])\n",
    "    print('S.e. =', ols(Y, X)[1])\n",
    "    print('2SLS:')\n",
    "    print('Beta =', twosls(Y, X, Z)[0])\n",
    "    print('S.e. =', twosls(Y, X, Z)[1])\n",
    "    \n",
    "    #---------\n",
    "    # DWH test\n",
    "    #---------\n",
    "    Y = np.matrix(df[expl]).T\n",
    "    X = np.matrix(df[['const', 'x1', 'x2', 'x3', 'x4']])\n",
    "    \n",
    "    # Predicted price\n",
    "    Phat = ols(Y, X)[2]\n",
    "\n",
    "    Y = np.matrix(df[dep]).T\n",
    "    X = np.hstack([np.matrix(df[['const', expl, 'x1', 'x2']]), Phat])\n",
    "    beta_hat, se = ols(Y, X)[:2]\n",
    "    DWH = beta_hat[-1] / se[-1]\n",
    "    print('\\nDWH statistic = %.2f' % DWH)"
   ]
  },
  {
   "cell_type": "code",
   "execution_count": 6,
   "metadata": {
    "collapsed": false
   },
   "outputs": [
    {
     "name": "stdout",
     "output_type": "stream",
     "text": [
      "\n",
      "OLS:\n",
      "Beta = [ 3.4532 -0.3951  0.383  -0.1975]\n",
      "S.e. = [ 0.1128  0.0235  0.0195  0.0373]\n",
      "2SLS:\n",
      "Beta = [ 3.0616 -0.5936  0.4913 -0.2252]\n",
      "S.e. = [ 0.1529  0.039   0.0301  0.0448]\n",
      "\n",
      "DWH statistic = -29.71\n",
      "\n",
      "OLS:\n",
      "Beta = [ 5.3087 -1.7203  0.8337 -0.3845]\n",
      "S.e. = [ 0.5045  0.1084  0.0397  0.0838]\n",
      "2SLS:\n",
      "Beta = [ 5.1281 -1.6777  0.8266 -0.3785]\n",
      "S.e. = [ 0.5275  0.1116  0.0389  0.0825]\n",
      "\n",
      "DWH statistic = 1.91\n"
     ]
    }
   ],
   "source": [
    "solution('q')\n",
    "solution('p')"
   ]
  }
 ],
 "metadata": {
  "kernelspec": {
   "display_name": "Python 3",
   "language": "python",
   "name": "python3"
  },
  "language_info": {
   "codemirror_mode": {
    "name": "ipython",
    "version": 3
   },
   "file_extension": ".py",
   "mimetype": "text/x-python",
   "name": "python",
   "nbconvert_exporter": "python",
   "pygments_lexer": "ipython3",
   "version": "3.4.5"
  }
 },
 "nbformat": 4,
 "nbformat_minor": 0
}
