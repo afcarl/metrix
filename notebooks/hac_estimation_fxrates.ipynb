{
 "cells": [
  {
   "cell_type": "markdown",
   "metadata": {},
   "source": [
    "# HAC variance estimation\n",
    "\n",
    "Use two data files [FwdSpot1.dat](https://github.com/khrapovs/metrix/tree/master/data/ExchangeRates/FwdSpot1.dat) and [FwdSpot3.dat](https://github.com/khrapovs/metrix/tree/master/data/ExchangeRates/FwdSpot3.dat). The former contains monthly spot and 1-month forward exchange rates, the latter monthly spot and 3-month forward exchange rates, in \\$/foreign currency, for the British Pound,\n",
    "French Franc and Japanese Yen, for 1973:3 to 1992:8 (234 observations).\n",
    "Each row contains the month, the year, the spot rates for Pound, Franc, and Yen, and then the forward rates for the same three currencies. Download the data, then take logarithms of the rates.\n",
    "\n",
    "We are interested in testing the conditional unbiasedness hypothesis that\n",
    "$$\n",
    "\\mathbb{E}_{t}\\left[s_{t+k}\\right]=f_{t,k},\n",
    "$$\n",
    "where $s_{t}$ is the spot rate at $t$, $f_{t,k}$ is the forward rate for $k$-month forwards at $t$,\n",
    "and $\\mathbb{E}_{t}$ denoted mathematical expectation conditional on time $t$  information.\n",
    "The above statement says that the forward rate is a conditionally unbiased predictor of the future spot exchange rate.\n",
    "To test this theory, it is conventional to nest the above expectation hypothesis within the following econometric model:\n",
    "$$\n",
    "s_{t+k}-s_{t}=\\alpha+\\beta\\left(f_{t,k}-s_{t}\\right)+e_{t+k},\\quad\\mathbb{E}_{t}\\left[e_{t+k}\\right]=0,\n",
    "$$\n",
    "and test $H_{0}:\\alpha=0,\\beta=1$. The current spot rate is subtracted to achieve stationarity.\n",
    "The difference $s_{t+k}-s_{t}$ is called the exchange rate depreciation, the difference $f_{t,k}-s_{t}$ the forward premium.\n",
    "Do the following exercises for the three currencies comparing the results across the currencies throughout.\n",
    "\n",
    "- For both types of forwards, estimate the model by OLS. Report parameter estimates with appropriate standard errors.\n",
    "\n",
    "The model at hand is simply a linear model with possibly autocorrelated and heteroscedastic errors. The estimator in general is\n",
    "$$\n",
    "\\hat{\\beta}_{T}=\\left(X^{\\prime}X\\right)^{-1}X^{\\prime}Y.\n",
    "$$\n",
    "It's asymptotic distribution is\n",
    "$$\n",
    "\\sqrt{T}\\left(\\hat{\\beta}_{T}-\\beta_{0}\\right)\\overset{d}{\\longrightarrow}\n",
    "N\\left(0,\\mathbb{E}\\left[X_{t}X_{t}^{\\prime}\\right]^{-1}\n",
    "\\mathbb{E}\\left[e_{t}^{2}X_{t}X_{t}^{\\prime}\\right]\n",
    "\\mathbb{E}\\left[X_{t}X_{t}^{\\prime}\\right]^{-1}\\right)\n",
    "$$\n",
    "if the errors are uncorrelated. The asymptotic covariance matrix can be estimated by (White's estimator)\n",
    "$$\n",
    "\\hat{V}_{\\hat{\\beta}}\n",
    "=\\left(X^{\\prime}X\\right)^{-1}\\left(X^{\\prime}\\text{diag}\n",
    "\\left(\\hat{e}^{2}\\right)X\\right)\\left(X^{\\prime}X\\right)^{-1}.\n",
    "$$ \n",
    "\n",
    "- Test conditional unbiasedness using asymptotic theory.\n",
    "\n",
    "One could use Wald statistic\n",
    "$$\n",
    "W_{T}=\\left(\\hat{\\theta}-\\theta\\right)^{\\prime}\n",
    "\\hat{V}_{\\hat{\\theta}}^{-1}\\left(\\hat{\\theta}-\\theta\\right),\n",
    "$$\n",
    "where $\\hat{\\theta}=r\\left(\\hat{\\beta}\\right)$ is the unrestricted estimate and $\\theta=r\\left(\\beta\\right)$ is the restriction being tested. The asymptotic distribution of this test statistic is $\\chi_{q}^{2}$, where $q=\\text{rank}\\left(\\partial r/\\partial\\beta^{\\prime}\\right)$. We also know that\n",
    "$$\n",
    "\\hat{V}_{\\hat{\\theta}}=\\hat{R}^{\\prime}\\hat{V}_{\\hat{\\beta}}\\hat{R},\n",
    "$$\n",
    "where\n",
    "$$\n",
    "\\hat{R}=\\frac{\\partial}{\\partial\\beta}r\\left(\\hat{\\beta}\\right)^{\\prime}.\n",
    "$$\n",
    "In our case $r\\left(\\beta\\right)=\\beta$, $\\theta=\\left[0,1\\right]^{\\prime}$, and $R$ is the identity matrix.\n",
    "\n",
    "- With 3-month forwards, try estimation of the long run variance with the Hansen-Hodrick, Newey-West, and Andrews (with the Parzen kernel) estimators."
   ]
  },
  {
   "cell_type": "code",
   "execution_count": 1,
   "metadata": {
    "collapsed": false
   },
   "outputs": [],
   "source": [
    "import pandas as pd\n",
    "import numpy as np\n",
    "import matplotlib.pylab as plt\n",
    "import seaborn as sns\n",
    "import datetime as dt\n",
    "from numpy.linalg import inv, lstsq\n",
    "from scipy.stats import chi2\n",
    "\n",
    "# For inline pictures\n",
    "%matplotlib inline\n",
    "# For nicer output of Pandas dataframes\n",
    "pd.set_option('float_format', '{:8.2f}'.format)\n",
    "\n",
    "sns.set_context('notebook')"
   ]
  },
  {
   "cell_type": "markdown",
   "metadata": {},
   "source": [
    "### Read fixed wdth data automatically using Pandas library"
   ]
  },
  {
   "cell_type": "code",
   "execution_count": 2,
   "metadata": {
    "collapsed": false
   },
   "outputs": [
    {
     "name": "stdout",
     "output_type": "stream",
     "text": [
      "   Month  Year  SpotPound  SpotFranc  SpotYen  FwdPound  FwdFranc   FwdYen\n",
      "0      3    73       2.48       0.22     0.00      2.47      0.22     0.00\n",
      "1      4    73       2.49       0.22     0.00      2.48      0.22     0.00\n",
      "2      5    73       2.57       0.23     0.00      2.57      0.23     0.00\n",
      "3      6    73       2.58       0.24     0.00      2.58      0.24     0.00\n",
      "4      7    73       2.51       0.24     0.00      2.50      0.24     0.00\n",
      "   Month  Year  SpotPound  SpotFranc  SpotYen  FwdPound  FwdFranc   FwdYen\n",
      "0      3    73       2.48       0.22     0.00      2.46      0.22     0.00\n",
      "1      4    73       2.49       0.22     0.00      2.47      0.22     0.00\n",
      "2      5    73       2.57       0.23     0.00      2.56      0.23     0.00\n",
      "3      6    73       2.58       0.24     0.00      2.57      0.24     0.00\n",
      "4      7    73       2.51       0.24     0.00      2.49      0.24     0.00\n"
     ]
    }
   ],
   "source": [
    "names = ['Month', 'Year', 'SpotPound', 'SpotFranc', 'SpotYen', 'FwdPound', 'FwdFranc', 'FwdYen']\n",
    "df1 = pd.read_fwf('../data/ExchangeRates/FwdSpot1.dat', names=names)\n",
    "df3 = pd.read_fwf('../data/ExchangeRates/FwdSpot3.dat', names=names)\n",
    "print(df1.head())\n",
    "print(df3.head())"
   ]
  },
  {
   "cell_type": "markdown",
   "metadata": {},
   "source": [
    "### Transform data and create date index"
   ]
  },
  {
   "cell_type": "code",
   "execution_count": 3,
   "metadata": {
    "collapsed": false
   },
   "outputs": [
    {
     "name": "stdout",
     "output_type": "stream",
     "text": [
      "            SpotPound  SpotFranc  SpotYen  FwdPound  FwdFranc   FwdYen\n",
      "Date                                                                  \n",
      "1973-03-01       0.91      -1.51    -5.59      0.90     -1.51    -5.58\n",
      "1973-04-01       0.91      -1.52    -5.58      0.91     -1.52    -5.58\n",
      "1973-05-01       0.94      -1.47    -5.58      0.94     -1.47    -5.57\n",
      "1973-06-01       0.95      -1.42    -5.57      0.95     -1.42    -5.56\n",
      "1973-07-01       0.92      -1.42    -5.58      0.92     -1.42    -5.57\n"
     ]
    }
   ],
   "source": [
    "def date(x):\n",
    "    return dt.date(1900 + int(x['Year']), int(x['Month']), 1)\n",
    "\n",
    "def transform_data(df):\n",
    "    df['Date'] = df.apply(date, axis=1)\n",
    "    df.set_index('Date', inplace=True)\n",
    "    df.drop(['Year','Month'], axis=1, inplace=True)\n",
    "    df = np.log(df)\n",
    "    return df\n",
    "\n",
    "df1 = transform_data(df1)\n",
    "df3 = transform_data(df3)\n",
    "print(df1.head())"
   ]
  },
  {
   "cell_type": "markdown",
   "metadata": {},
   "source": [
    "### Plot some data"
   ]
  },
  {
   "cell_type": "code",
   "execution_count": 4,
   "metadata": {
    "collapsed": false
   },
   "outputs": [
    {
     "data": {
      "image/png": "[encoded data removed]",
      "text/plain": [
       "<matplotlib.figure.Figure at 0x7ff129194d68>"
      ]
     },
     "metadata": {},
     "output_type": "display_data"
    }
   ],
   "source": [
    "df1[['SpotPound', 'SpotFranc', 'SpotYen']].plot(figsize=(10, 8), subplots=True)\n",
    "plt.show()"
   ]
  },
  {
   "cell_type": "markdown",
   "metadata": {},
   "source": [
    "### Define weighting kernels"
   ]
  },
  {
   "cell_type": "code",
   "execution_count": 5,
   "metadata": {
    "collapsed": false
   },
   "outputs": [],
   "source": [
    "def White(x):\n",
    "    return 0\n",
    "\n",
    "def HansenHodrick(x):\n",
    "    if abs(x) <= 1:\n",
    "        return 1\n",
    "    else:\n",
    "        return 0\n",
    "\n",
    "def Bartlett(x):\n",
    "    if abs(x) <= 1:\n",
    "        return 1 - abs(x)\n",
    "    else:\n",
    "        return 0\n",
    "\n",
    "def Parzen(x):\n",
    "    if abs(x) <= .5:\n",
    "        return 1 - 6 * x**2 + 6 * abs(x)**3\n",
    "    if abs(x) > .5 and abs(x) <= .5:\n",
    "        return 3 * (1 - abs(x)**3)\n",
    "    else:\n",
    "        return 0"
   ]
  },
  {
   "cell_type": "markdown",
   "metadata": {},
   "source": [
    "The following function makes a selection of the requested kernel according to `name` variable."
   ]
  },
  {
   "cell_type": "code",
   "execution_count": 6,
   "metadata": {
    "collapsed": false
   },
   "outputs": [],
   "source": [
    "def kernel(x, name):\n",
    "    kernels = {'White' : White,\n",
    "               'HansenHodrick' : HansenHodrick,\n",
    "               'Bartlett' : Bartlett,\n",
    "               'Parzen' : Parzen}\n",
    "    return kernels[name](x)"
   ]
  },
  {
   "cell_type": "markdown",
   "metadata": {},
   "source": [
    "### HAC variance estimation"
   ]
  },
  {
   "cell_type": "code",
   "execution_count": 7,
   "metadata": {
    "collapsed": false
   },
   "outputs": [],
   "source": [
    "def HAC(e, X, kern):\n",
    "    N = X.shape[0]\n",
    "    q = round(N**(1/5))\n",
    "    for m in range(0, N):\n",
    "        G = np.dot(X[m:].T * e[m:], (X[:N-m].T * e[:N-m]).T)\n",
    "        if m == 0:\n",
    "            S = G\n",
    "        else:\n",
    "            w = kernel(m / q, kern)\n",
    "            S += w * (G + G.T)\n",
    "    Q = inv(np.dot(X.T, X))\n",
    "    V = np.dot(Q, S).dot(Q)\n",
    "    return V"
   ]
  },
  {
   "cell_type": "markdown",
   "metadata": {},
   "source": [
    "### OLS estimation"
   ]
  },
  {
   "cell_type": "code",
   "execution_count": 8,
   "metadata": {
    "collapsed": false
   },
   "outputs": [],
   "source": [
    "def ols(Y, X, kern):\n",
    "    Y = np.array(Y)\n",
    "    X = np.vstack((np.ones_like(X), X)).T\n",
    "    Qxx = np.dot(X.T, X)\n",
    "    Qxy = np.dot(X.T, Y)\n",
    "    # Parameter estimate\n",
    "    beta = np.dot(inv(Qxx), Qxy)\n",
    "    # Residual estimates\n",
    "    e = Y - np.dot(X, beta)\n",
    "    # Estimate of asymptotic variance\n",
    "    V = HAC(e, X, kern)\n",
    "    # Corresponding standard errors\n",
    "    s = np.diag(V) ** .5\n",
    "    # t-statistics\n",
    "    t = beta / s\n",
    "    return beta, V, s, t"
   ]
  },
  {
   "cell_type": "markdown",
   "metadata": {},
   "source": [
    "### Wald test of equality restrictions"
   ]
  },
  {
   "cell_type": "code",
   "execution_count": 9,
   "metadata": {
    "collapsed": false
   },
   "outputs": [],
   "source": [
    "def Wald(beta_hat, beta, V):\n",
    "    # Test statistic\n",
    "    W = np.dot(beta_hat - beta, inv(V)).dot((beta_hat - beta).T)\n",
    "    # p-value of the test\n",
    "    p = 1 - chi2.cdf(W, 2)\n",
    "    return W, p"
   ]
  },
  {
   "cell_type": "markdown",
   "metadata": {},
   "source": [
    "### Run regressions and collect results"
   ]
  },
  {
   "cell_type": "code",
   "execution_count": 10,
   "metadata": {
    "collapsed": false
   },
   "outputs": [
    {
     "name": "stdout",
     "output_type": "stream",
     "text": [
      "                           W  alpha*1e2     beta        p  t(alpha)  t(beta)\n",
      "Franc Bartlett          6.35      -0.23    -0.96     0.04     -0.83    -1.18\n",
      "      HansenHodrick     6.54      -0.23    -0.96     0.04     -0.74    -1.19\n",
      "      Parzen            6.29      -0.23    -0.96     0.04     -0.87    -1.18\n",
      "      White             5.73      -0.23    -0.96     0.06     -0.88    -1.13\n",
      "Pound Bartlett          5.68      -0.23    -0.73     0.06     -0.88    -0.98\n",
      "      HansenHodrick     3.93      -0.23    -0.73     0.14     -0.82    -0.82\n",
      "      Parzen            6.58      -0.23    -0.73     0.04     -0.91    -1.05\n",
      "      White             7.45      -0.23    -0.73     0.02     -0.97    -1.13\n",
      "Yen   Bartlett          6.17       0.36    -0.15     0.05      1.52    -0.31\n",
      "      HansenHodrick     5.56       0.36    -0.15     0.06      1.40    -0.29\n",
      "      Parzen            5.15       0.36    -0.15     0.08      1.48    -0.28\n",
      "      White             4.90       0.36    -0.15     0.09      1.54    -0.27 \n",
      "\n",
      "                           W  alpha*1e2     beta        p  t(alpha)  t(beta)\n",
      "Franc Bartlett          4.84      -0.44    -0.48     0.09     -0.57    -0.65\n",
      "      HansenHodrick     3.15      -0.44    -0.48     0.21     -0.44    -0.52\n",
      "      Parzen            5.98      -0.44    -0.48     0.05     -0.64    -0.72\n",
      "      White             9.35      -0.44    -0.48     0.01     -0.84    -0.90\n",
      "Pound Bartlett         23.86      -1.87    -2.06     0.00     -2.66    -3.27\n",
      "      HansenHodrick    16.04      -1.87    -2.06     0.00     -2.26    -2.69\n",
      "      Parzen           28.99      -1.87    -2.06     0.00     -2.91    -3.60\n",
      "      White            50.01      -1.87    -2.06     0.00     -3.79    -4.71\n",
      "Yen   Bartlett         17.50       1.31    -0.60     0.00      2.19    -1.51\n",
      "      HansenHodrick    11.29       1.31    -0.60     0.00      1.72    -1.22\n",
      "      Parzen           20.14       1.31    -0.60     0.00      2.42    -1.62\n",
      "      White            32.05       1.31    -0.60     0.00      3.21    -2.04 \n",
      "\n"
     ]
    }
   ],
   "source": [
    "# Create lists for all available options\n",
    "currency = ['Pound', 'Franc', 'Yen']\n",
    "kernels = ['White', 'HansenHodrick', 'Bartlett', 'Parzen']\n",
    "\n",
    "# Run over two data sets and correspondig lags\n",
    "for df, lag in zip([df1, df3], [1, 3]):\n",
    "    \n",
    "    # Create dictionary container for the results\n",
    "    tb = dict()\n",
    "    \n",
    "    for c in currency:\n",
    "        for kern in kernels:\n",
    "            \n",
    "            # Create Y and X according to the model\n",
    "            Y = (df['Spot' + c].diff(lag)).iloc[lag:]\n",
    "            X = (df['Fwd' + c].shift(lag) - df['Spot' + c].shift(lag)).iloc[lag:]\n",
    "            \n",
    "            # OLS estimation results\n",
    "            beta, V, s, t = ols(Y, X, kern)\n",
    "            \n",
    "            # Restriction on parameters\n",
    "            beta_restr = np.array([0,1])\n",
    "            # Wald test statistic\n",
    "            W, p = Wald(beta, beta_restr, V)\n",
    "            \n",
    "            # Dictionary of results\n",
    "            tb[c, kern] = {'alpha*1e2' : beta[0]*1e2, 'beta' : beta[1],\n",
    "                           't(alpha)' : t[0], 't(beta)' : t[1],\n",
    "                           'W' : W, 'p' : p}\n",
    "    \n",
    "    # Convert dictionary to DataFrame\n",
    "    tb = pd.DataFrame(tb).T\n",
    "    print(tb, '\\n')"
   ]
  }
 ],
 "metadata": {
  "kernelspec": {
   "display_name": "Python 3",
   "language": "python",
   "name": "python3"
  },
  "language_info": {
   "codemirror_mode": {
    "name": "ipython",
    "version": 3
   },
   "file_extension": ".py",
   "mimetype": "text/x-python",
   "name": "python",
   "nbconvert_exporter": "python",
   "pygments_lexer": "ipython3",
   "version": "3.4.4"
  }
 },
 "nbformat": 4,
 "nbformat_minor": 0
}
