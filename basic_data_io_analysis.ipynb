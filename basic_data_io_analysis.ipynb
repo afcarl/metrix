{
 "cells": [
  {
   "cell_type": "markdown",
   "metadata": {},
   "source": [
    "# Basic data IO and analysis"
   ]
  },
  {
   "cell_type": "markdown",
   "metadata": {},
   "source": [
    "First, we need to import all the necessary libraries and set up some environment variables."
   ]
  },
  {
   "cell_type": "code",
   "execution_count": 1,
   "metadata": {
    "collapsed": true
   },
   "outputs": [],
   "source": [
    "import re\n",
    "import requests\n",
    "import zipfile\n",
    "\n",
    "import numpy as np\n",
    "import pandas as pd\n",
    "import matplotlib.pylab as plt\n",
    "import seaborn as sns\n",
    "import statsmodels.formula.api as sm\n",
    "\n",
    "sns.set_context('talk')\n",
    "pd.set_option('float_format', '{:6.2f}'.format)\n",
    "%matplotlib inline"
   ]
  },
  {
   "cell_type": "markdown",
   "metadata": {},
   "source": [
    "Load the zip file from the web and save it to your hard drive."
   ]
  },
  {
   "cell_type": "code",
   "execution_count": 2,
   "metadata": {
    "collapsed": false
   },
   "outputs": [],
   "source": [
    "url = 'http://databank.worldbank.org/data/download/Edstats_csv.zip'\n",
    "path = 'data/WorldBank/Edstats_csv.zip'\n",
    "\n",
    "response = requests.get(url)\n",
    "with open(path, \"wb\") as file:\n",
    "    file.write(response.content)"
   ]
  },
  {
   "cell_type": "markdown",
   "metadata": {},
   "source": [
    "Show contents of the zip file."
   ]
  },
  {
   "cell_type": "code",
   "execution_count": 3,
   "metadata": {
    "collapsed": false
   },
   "outputs": [
    {
     "name": "stdout",
     "output_type": "stream",
     "text": [
      "['EdStats_Data.csv', 'EdStats_Country.csv', 'EdStats_Series.csv', 'EdStats_Country-Series.csv', 'EdStats_Series-Time.csv', 'EdStats_FootNote.csv']\n"
     ]
    }
   ],
   "source": [
    "zf = zipfile.ZipFile(path)\n",
    "files = zf.namelist()\n",
    "\n",
    "print(files)"
   ]
  },
  {
   "cell_type": "markdown",
   "metadata": {},
   "source": [
    "Read csv-formatted data directly from the zip file into pandas DataFrame. Also rename some columns for prettier output."
   ]
  },
  {
   "cell_type": "code",
   "execution_count": 4,
   "metadata": {
    "collapsed": false
   },
   "outputs": [
    {
     "name": "stdout",
     "output_type": "stream",
     "text": [
      "Index(['Series Code', 'Topic', 'Indicator Name', 'Short definition',\n",
      "       'Long definition', 'Unit of measure', 'Periodicity', 'Base Period',\n",
      "       'Other notes', 'Aggregation method', 'Limitations and exceptions',\n",
      "       'Notes from original source', 'General comments', 'Source',\n",
      "       'Statistical concept and methodology', 'Development relevance',\n",
      "       'Related source links', 'Other web links', 'Related indicators',\n",
      "       'License Type', 'Unnamed: 20'],\n",
      "      dtype='object')\n"
     ]
    }
   ],
   "source": [
    "data = pd.read_csv(zf.open(files[0]))\n",
    "series = pd.read_csv(zf.open(files[2]))\n",
    "series.rename(columns={series.columns[0]: 'Series Code'}, inplace=True)\n",
    "data.rename(columns={data.columns[0]: 'Country Name'}, inplace=True)\n",
    "\n",
    "print(series.columns)"
   ]
  },
  {
   "cell_type": "markdown",
   "metadata": {},
   "source": [
    "Show unique values of the `Topic` column."
   ]
  },
  {
   "cell_type": "code",
   "execution_count": 5,
   "metadata": {
    "collapsed": false
   },
   "outputs": [
    {
     "name": "stdout",
     "output_type": "stream",
     "text": [
      "['Attainment' 'Education Equality' 'Background' 'Learning Outcomes'\n",
      " 'Teachers' 'Education Management Information Systems (SABER)'\n",
      " 'Early Child Development (SABER)'\n",
      " 'School Health and School Feeding (SABER)'\n",
      " 'Engaging the Private Sector (SABER)'\n",
      " 'School Autonomy and Accountability (SABER)' 'School Finance (SABER)'\n",
      " 'Student Assessment (SABER)' 'Teachers (SABER)'\n",
      " 'Workforce Development (SABER)' 'Literacy' 'Primary' 'Secondary'\n",
      " 'Tertiary' 'Pre-Primary' 'Expenditures' 'Laber' 'Population' 'EMIS'\n",
      " 'Post-Secondary/Non-Tertiary']\n"
     ]
    }
   ],
   "source": [
    "print(series['Topic'].unique())"
   ]
  },
  {
   "cell_type": "markdown",
   "metadata": {},
   "source": [
    "Leave only those rows that have `Expenditures` in the column `Topic`. Next, leave only those that contain `PPP` in the `Indicator Name` column values. Finally, create a dictionary with a pair of variable key and its meaningful name."
   ]
  },
  {
   "cell_type": "code",
   "execution_count": 6,
   "metadata": {
    "collapsed": false
   },
   "outputs": [
    {
     "name": "stdout",
     "output_type": "stream",
     "text": [
      "[['UIS.XUNIT.PPP.1.FSGOV'\n",
      "  'Government expenditure per primary student (PPP$)']\n",
      " ['UIS.XUNIT.PPP.2.FSGOV'\n",
      "  'Government expenditure per lower secondary student (PPP$)']\n",
      " ['UIS.XUNIT.PPP.23.FSGOV'\n",
      "  'Government expenditure per secondary student (PPP$)']\n",
      " ['UIS.XUNIT.PPP.3.FSGOV'\n",
      "  'Government expenditure per upper secondary student (PPP$)']\n",
      " ['UIS.XUNIT.PPP.4.FSGOV'\n",
      "  'Government expenditure per post-secondary non-tertiary student (PPP$)']\n",
      " ['UIS.XUNIT.PPP.56.FSGOV'\n",
      "  'Government expenditure per tertiary student (PPP$)']\n",
      " ['UIS.XUNIT.PPPCONST.1.FSGOV'\n",
      "  'Government expenditure per primary student (constant PPP$)']\n",
      " ['UIS.XUNIT.PPPCONST.2.FSGOV'\n",
      "  'Government expenditure per lower secondary student (constant PPP$)']\n",
      " ['UIS.XUNIT.PPPCONST.23.FSGOV'\n",
      "  'Government expenditure per secondary student (constant PPP$)']\n",
      " ['UIS.XUNIT.PPPCONST.3.FSGOV'\n",
      "  'Government expenditure per upper secondary student (constant PPP$)']\n",
      " ['UIS.XUNIT.PPPCONST.4.FSGOV'\n",
      "  'Government expenditure per post-secondary non-tertiary student (constant PPP$)']\n",
      " ['UIS.XUNIT.PPPCONST.56.FSGOV'\n",
      "  'Government expenditure per tertiary student (constant PPP$)']]\n"
     ]
    }
   ],
   "source": [
    "subset = series.query(\"Topic == 'Expenditures'\")[['Series Code', 'Indicator Name']]\n",
    "subset = subset[subset['Indicator Name'].str.contains('PPP')]\n",
    "print(subset.values)\n",
    "xvar = {'UIS.XUNIT.PPP.1.FSGOV': 'Expenditure per student'}"
   ]
  },
  {
   "cell_type": "markdown",
   "metadata": {},
   "source": [
    "Do the same for `Attainment` among `Topic` values and slightly more involved subset of `Indicator Name`. Here we require that it contains both strings, `with primary schooling` and `15`."
   ]
  },
  {
   "cell_type": "code",
   "execution_count": 7,
   "metadata": {
    "collapsed": false
   },
   "outputs": [
    {
     "name": "stdout",
     "output_type": "stream",
     "text": [
      "[['BAR.PRM.CMPT.1519.FE.ZS'\n",
      "  'Barro-Lee: Percentage of female population age 15-19 with primary schooling. Completed Primary']\n",
      " ['BAR.PRM.CMPT.1519.ZS'\n",
      "  'Barro-Lee: Percentage of population age 15-19 with primary schooling. Completed Primary']\n",
      " ['BAR.PRM.CMPT.15UP.FE.ZS'\n",
      "  'Barro-Lee: Percentage of female population age 15+ with primary schooling. Completed Primary']\n",
      " ['BAR.PRM.CMPT.15UP.ZS'\n",
      "  'Barro-Lee: Percentage of population age 15+ with primary schooling. Completed Primary']\n",
      " ['BAR.PRM.ICMP.1519.FE.ZS'\n",
      "  'Barro-Lee: Percentage of female population age 15-19 with primary schooling. Total (Incomplete and Completed Primary)']\n",
      " ['BAR.PRM.ICMP.1519.ZS'\n",
      "  'Barro-Lee: Percentage of population age 15-19 with primary schooling. Total (Incomplete and Completed Primary)']\n",
      " ['BAR.PRM.ICMP.15UP.FE.ZS'\n",
      "  'Barro-Lee: Percentage of female population age 15+ with primary schooling. Total (Incomplete and Completed Primary)']\n",
      " ['BAR.PRM.ICMP.15UP.ZS'\n",
      "  'Barro-Lee: Percentage of population age 15+ with primary schooling. Total (Incomplete and Completed Primary)']]\n"
     ]
    }
   ],
   "source": [
    "subset = series.query(\"Topic == 'Attainment'\")[['Series Code', 'Indicator Name']]\n",
    "subset = subset[subset['Indicator Name'].str.contains('(?=.*with primary schooling)(?=.*15)')]\n",
    "print(subset.values)\n",
    "yvar = {'BAR.PRM.CMPT.15UP.ZS': 'Pct with schooling'}"
   ]
  },
  {
   "cell_type": "markdown",
   "metadata": {},
   "source": [
    "Now show all column names in the primary data set."
   ]
  },
  {
   "cell_type": "code",
   "execution_count": 8,
   "metadata": {
    "collapsed": false
   },
   "outputs": [
    {
     "name": "stdout",
     "output_type": "stream",
     "text": [
      "Index(['Country Name', 'Country Code', 'Indicator Name', 'Indicator Code',\n",
      "       '1976', '1977', '1978', '1979', '1980', '1981', '1982', '1983', '1984',\n",
      "       '1985', '1986', '1987', '1988', '1989', '1990', '1991', '1992', '1993',\n",
      "       '1994', '1995', '1996', '1997', '1998', '1999', '2000', '2001', '2002',\n",
      "       '2003', '2004', '2005', '2006', '2007', '2008', '2009', '2010', '2011',\n",
      "       '2012', '2013', '2014', '2015', '2020', '2025', '2030', '2035', '2040',\n",
      "       '2045', '2050', '2055', '2060', '2065', '2070', '2075', '2080', '2085',\n",
      "       '2090', '2095', '2100', 'Unnamed: 61'],\n",
      "      dtype='object')\n"
     ]
    }
   ],
   "source": [
    "print(data.columns)"
   ]
  },
  {
   "cell_type": "markdown",
   "metadata": {},
   "source": [
    "Combine two dictionaries into one."
   ]
  },
  {
   "cell_type": "code",
   "execution_count": 9,
   "metadata": {
    "collapsed": false
   },
   "outputs": [
    {
     "name": "stdout",
     "output_type": "stream",
     "text": [
      "{'UIS.XUNIT.PPP.1.FSGOV': 'Expenditure per student', 'BAR.PRM.CMPT.15UP.ZS': 'Pct with schooling'}\n"
     ]
    }
   ],
   "source": [
    "renames = xvar.copy()\n",
    "renames.update(yvar)\n",
    "print(renames)"
   ]
  },
  {
   "cell_type": "markdown",
   "metadata": {},
   "source": [
    "Subset the data to include only three interesting columns that we have found above and only for the year 2010."
   ]
  },
  {
   "cell_type": "code",
   "execution_count": 10,
   "metadata": {
    "collapsed": false
   },
   "outputs": [
    {
     "name": "stdout",
     "output_type": "stream",
     "text": [
      "Indicator  Expenditure per student  Pct with schooling\n",
      "Country                                               \n",
      "Australia                  8767.16                5.21\n",
      "Austria                   10469.72               18.40\n",
      "Belgium                    8802.47                9.50\n",
      "Belize                     1374.39               14.29\n",
      "Benin                       240.69               12.18\n"
     ]
    }
   ],
   "source": [
    "cols = ['Country Name', 'Indicator Code', '2010']\n",
    "data_sub = data.ix[data['Indicator Code'].isin(renames.keys()), cols].dropna()\n",
    "data_sub.replace({'Indicator Code': renames}, inplace=True)\n",
    "data_sub.set_index(cols[:2], inplace=True)\n",
    "data_sub = data_sub[cols[-1]].unstack(cols[1]).dropna()\n",
    "data_sub.columns.name = 'Indicator'\n",
    "data_sub.index.name = 'Country'\n",
    "\n",
    "print(data_sub.head())"
   ]
  },
  {
   "cell_type": "markdown",
   "metadata": {},
   "source": [
    "Export data to Excel."
   ]
  },
  {
   "cell_type": "code",
   "execution_count": 11,
   "metadata": {
    "collapsed": true
   },
   "outputs": [],
   "source": [
    "data_sub.to_excel('data/WorldBank/education.xlsx', sheet_name='data')"
   ]
  },
  {
   "cell_type": "markdown",
   "metadata": {},
   "source": [
    "Now suppose we already have the data saved in the Excel file. Let's read it from scratch into pandas DataFrame."
   ]
  },
  {
   "cell_type": "code",
   "execution_count": 12,
   "metadata": {
    "collapsed": false
   },
   "outputs": [
    {
     "name": "stdout",
     "output_type": "stream",
     "text": [
      "           Expenditure per student  Pct with schooling\n",
      "Country                                               \n",
      "Australia                  8767.16                5.21\n",
      "Austria                   10469.72               18.40\n",
      "Belgium                    8802.47                9.50\n",
      "Belize                     1374.39               14.29\n",
      "Benin                       240.69               12.18\n"
     ]
    }
   ],
   "source": [
    "education = pd.read_excel('data/WorldBank/education.xlsx', sheet_name='data', index_col=0)\n",
    "print(education.head())"
   ]
  },
  {
   "cell_type": "markdown",
   "metadata": {},
   "source": [
    "Let's see how percentage of educated population depends on government expenditures on primary students. Also, save the picture to the pdf file."
   ]
  },
  {
   "cell_type": "code",
   "execution_count": 13,
   "metadata": {
    "collapsed": false
   },
   "outputs": [
    {
     "data": {
      "image/png": "[encoded data removed]",
      "text/plain": [
       "<matplotlib.figure.Figure at 0x7fc436325a90>"
      ]
     },
     "metadata": {},
     "output_type": "display_data"
    }
   ],
   "source": [
    "education['Expenditure per student (log)'] = np.log(education['Expenditure per student'])\n",
    "\n",
    "fig = plt.figure(figsize=(8, 6))\n",
    "sns.regplot(x='Expenditure per student (log)', y='Pct with schooling',\n",
    "            data=education, ax=fig.gca())\n",
    "plt.savefig('plots/education.pdf')\n",
    "plt.show()"
   ]
  },
  {
   "cell_type": "markdown",
   "metadata": {},
   "source": [
    "To be more precise we can quantify the effect of expenditures on schooling via simple OLS regression."
   ]
  },
  {
   "cell_type": "code",
   "execution_count": 14,
   "metadata": {
    "collapsed": false
   },
   "outputs": [
    {
     "name": "stdout",
     "output_type": "stream",
     "text": [
      "                               OLS Regression Results                              \n",
      "===================================================================================\n",
      "Dep. Variable:     Q(\"Pct with schooling\")   R-squared:                       0.095\n",
      "Model:                                 OLS   Adj. R-squared:                  0.084\n",
      "Method:                      Least Squares   F-statistic:                     8.718\n",
      "Date:                     Fri, 06 May 2016   Prob (F-statistic):            0.00410\n",
      "Time:                             11:53:03   Log-Likelihood:                -306.27\n",
      "No. Observations:                       85   AIC:                             616.5\n",
      "Df Residuals:                           83   BIC:                             621.4\n",
      "Df Model:                                1                                         \n",
      "Covariance Type:                 nonrobust                                         \n",
      "========================================================================================================\n",
      "                                           coef    std err          t      P>|t|      [95.0% Conf. Int.]\n",
      "--------------------------------------------------------------------------------------------------------\n",
      "Intercept                               27.1920      4.629      5.874      0.000        17.985    36.399\n",
      "np.log(Q(\"Expenditure per student\"))    -1.7875      0.605     -2.953      0.004        -2.992    -0.583\n",
      "==============================================================================\n",
      "Omnibus:                        6.145   Durbin-Watson:                   2.266\n",
      "Prob(Omnibus):                  0.046   Jarque-Bera (JB):                6.303\n",
      "Skew:                           0.658   Prob(JB):                       0.0428\n",
      "Kurtosis:                       2.779   Cond. No.                         36.9\n",
      "==============================================================================\n",
      "\n",
      "Warnings:\n",
      "[1] Standard Errors assume that the covariance matrix of the errors is correctly specified.\n"
     ]
    }
   ],
   "source": [
    "formula = 'Q(\"Pct with schooling\") ~ np.log(Q(\"Expenditure per student\"))'\n",
    "result = sm.ols(formula=formula, data=education).fit()\n",
    "print(result.summary())"
   ]
  },
  {
   "cell_type": "markdown",
   "metadata": {},
   "source": [
    "And save the key result to the LaTeX table."
   ]
  },
  {
   "cell_type": "code",
   "execution_count": 15,
   "metadata": {
    "collapsed": false
   },
   "outputs": [
    {
     "name": "stdout",
     "output_type": "stream",
     "text": [
      "                                      Parameter  t-stat\n",
      "Intercept                                 27.19    5.87\n",
      "np.log(Q(\"Expenditure per student\"))      -1.79   -2.95\n"
     ]
    }
   ],
   "source": [
    "out = pd.DataFrame({'Parameter': result.params, 't-stat': result.tvalues})\n",
    "out.to_latex('tables/education_ols.tex')\n",
    "print(out)"
   ]
  }
 ],
 "metadata": {
  "kernelspec": {
   "display_name": "Python 3",
   "language": "python",
   "name": "python3"
  },
  "language_info": {
   "codemirror_mode": {
    "name": "ipython",
    "version": 3
   },
   "file_extension": ".py",
   "mimetype": "text/x-python",
   "name": "python",
   "nbconvert_exporter": "python",
   "pygments_lexer": "ipython3",
   "version": "3.4.4"
  }
 },
 "nbformat": 4,
 "nbformat_minor": 0
}
